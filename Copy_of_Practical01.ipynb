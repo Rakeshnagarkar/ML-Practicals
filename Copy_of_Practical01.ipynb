{
  "cells": [
    {
      "cell_type": "markdown",
      "metadata": {
        "id": "view-in-github",
        "colab_type": "text"
      },
      "source": [
        "<a href=\"https://colab.research.google.com/github/Rakeshnagarkar/ML-Practicals/blob/main/Copy_of_Practical01.ipynb\" target=\"_parent\"><img src=\"https://colab.research.google.com/assets/colab-badge.svg\" alt=\"Open In Colab\"/></a>"
      ]
    },
    {
      "cell_type": "markdown",
      "source": [
        "\n",
        "\n"
      ],
      "metadata": {
        "id": "HDvzG9U1q36r"
      }
    },
    {
      "cell_type": "code",
      "execution_count": null,
      "metadata": {
        "id": "mFb9loFynrv8"
      },
      "outputs": [],
      "source": [
        "import pandas as pd\n",
        "import numpy as np"
      ]
    },
    {
      "cell_type": "code",
      "source": [
        "data = pd.read_csv(\"/content/enjoysport.csv\")\n",
        "print(data)"
      ],
      "metadata": {
        "colab": {
          "base_uri": "https://localhost:8080/"
        },
        "id": "oSIKbRijrWRv",
        "outputId": "a9176483-e5e7-40ff-ab83-3c8db5f0cfa9"
      },
      "execution_count": null,
      "outputs": [
        {
          "output_type": "stream",
          "name": "stdout",
          "text": [
            "      Time Weather Temperature Company Humidity    Wind Goes\n",
            "0  Morning   Sunny        Warm     Yes     Mild  Strong  Yes\n",
            "1  Evening   Rainy        Cold      No     Mild  Normal   No\n",
            "2  Morning   Sunny    Moderate     Yes   Normal  Normal  Yes\n",
            "3  Evening   Sunny        Cold     Yes     High  Strong  Yes\n"
          ]
        }
      ]
    },
    {
      "cell_type": "code",
      "source": [],
      "metadata": {
        "id": "JxevuPqnrMoe"
      },
      "execution_count": null,
      "outputs": []
    },
    {
      "cell_type": "code",
      "source": [
        "d = np.array(data)[:,:-1]\n",
        "print(\"The attributes are: \",d)"
      ],
      "metadata": {
        "colab": {
          "base_uri": "https://localhost:8080/"
        },
        "id": "1-G2VqnTrbO6",
        "outputId": "182bfdfb-574a-4e7f-d40a-151a6b9f629b"
      },
      "execution_count": null,
      "outputs": [
        {
          "output_type": "stream",
          "name": "stdout",
          "text": [
            "The attributes are:  [['Morning' 'Sunny' 'Warm' 'Yes' 'Mild' 'Strong']\n",
            " ['Evening' 'Rainy' 'Cold' 'No' 'Mild' 'Normal']\n",
            " ['Morning' 'Sunny' 'Moderate' 'Yes' 'Normal' 'Normal']\n",
            " ['Evening' 'Sunny' 'Cold' 'Yes' 'High' 'Strong']]\n"
          ]
        }
      ]
    },
    {
      "cell_type": "code",
      "source": [
        "target = np.array(data)[:,-1]\n",
        "print(\"n The target is: \",target)"
      ],
      "metadata": {
        "colab": {
          "base_uri": "https://localhost:8080/"
        },
        "id": "x6W9hklBrjio",
        "outputId": "8e281ff0-59bf-4bb2-9720-c04be05f4bb4"
      },
      "execution_count": null,
      "outputs": [
        {
          "output_type": "stream",
          "name": "stdout",
          "text": [
            "n The target is:  ['Yes' 'No' 'Yes' 'Yes']\n"
          ]
        }
      ]
    },
    {
      "cell_type": "code",
      "source": [
        "def train(c,t):\n",
        "    for i, val in enumerate(t):\n",
        "        if val == \"Yes\":\n",
        "            specific_hypothesis = c[i].copy()\n",
        "            break\n",
        "\n",
        "    for i, val in enumerate(c):\n",
        "        if t[i] == \"Yes\":\n",
        "            for x in range(len(specific_hypothesis)):\n",
        "                if val[x] != specific_hypothesis[x]:\n",
        "                    specific_hypothesis[x] = '?'\n",
        "                else:\n",
        "                    pass\n",
        "\n",
        "    return specific_hypothesis\n",
        "\n"
      ],
      "metadata": {
        "id": "m0rVv34Nsm1d"
      },
      "execution_count": null,
      "outputs": []
    },
    {
      "cell_type": "code",
      "source": [
        "print(\"The final hypothesis is:\",train(d,target))"
      ],
      "metadata": {
        "colab": {
          "base_uri": "https://localhost:8080/"
        },
        "id": "dt_LEq-gssqO",
        "outputId": "ae393048-3148-40b3-ac49-0f1a99719d65"
      },
      "execution_count": null,
      "outputs": [
        {
          "output_type": "stream",
          "name": "stdout",
          "text": [
            "The final hypothesis is: ['?' 'Sunny' '?' 'Yes' '?' '?']\n"
          ]
        }
      ]
    }
  ],
  "metadata": {
    "colab": {
      "provenance": [],
      "include_colab_link": true
    },
    "kernelspec": {
      "display_name": "Python 3",
      "name": "python3"
    },
    "language_info": {
      "name": "python"
    }
  },
  "nbformat": 4,
  "nbformat_minor": 0
}